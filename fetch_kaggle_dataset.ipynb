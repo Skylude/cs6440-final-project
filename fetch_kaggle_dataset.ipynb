{
 "cells": [
  {
   "cell_type": "code",
   "execution_count": null,
   "id": "initial_id",
   "metadata": {
    "collapsed": true
   },
   "outputs": [],
   "source": [
    "import os\n",
    "import zipfile\n",
    "\n",
    "os.environ['KAGGLE_USERNAME'] = 'replace_with_your_kaggle_username'\n",
    "os.environ['KAGGLE_KEY'] = 'replace_with_your_kaggle_key'\n",
    "\n",
    "!kaggle datasets download -d oswinrh/bible\n",
    "\n",
    "with zipfile.ZipFile('bible.zip', 'r') as zip_ref:\n",
    "    zip_ref.extractall('bible_data')"
   ]
  }
 ],
 "metadata": {
  "kernelspec": {
   "display_name": "Python 3",
   "language": "python",
   "name": "python3"
  },
  "language_info": {
   "codemirror_mode": {
    "name": "ipython",
    "version": 2
   },
   "file_extension": ".py",
   "mimetype": "text/x-python",
   "name": "python",
   "nbconvert_exporter": "python",
   "pygments_lexer": "ipython2",
   "version": "2.7.6"
  }
 },
 "nbformat": 4,
 "nbformat_minor": 5
}
