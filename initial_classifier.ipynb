{
 "cells": [
  {
   "cell_type": "code",
   "execution_count": 3,
   "id": "initial_id",
   "metadata": {
    "collapsed": true,
    "ExecuteTime": {
     "end_time": "2024-11-27T23:51:25.944307Z",
     "start_time": "2024-11-27T23:51:21.617622Z"
    }
   },
   "outputs": [
    {
     "name": "stdout",
     "output_type": "stream",
     "text": [
      "Accuracy of Model : 0.5213367108339828\n",
      "Accuracy of Logit Model : 0.5870031176929073\n"
     ]
    },
    {
     "name": "stderr",
     "output_type": "stream",
     "text": [
      "/Users/skylercain/code/cs-6640-artificial-neural-networks/.direnv/python-3.11/lib/python3.11/site-packages/sklearn/linear_model/_logistic.py:469: ConvergenceWarning: lbfgs failed to converge (status=1):\n",
      "STOP: TOTAL NO. of ITERATIONS REACHED LIMIT.\n",
      "\n",
      "Increase the number of iterations (max_iter) or scale the data as shown in:\n",
      "    https://scikit-learn.org/stable/modules/preprocessing.html\n",
      "Please also refer to the documentation for alternative solver options:\n",
      "    https://scikit-learn.org/stable/modules/linear_model.html#logistic-regression\n",
      "  n_iter_i = _check_optimize_result(\n"
     ]
    },
    {
     "data": {
      "text/plain": "0.5870031176929073"
     },
     "execution_count": 3,
     "metadata": {},
     "output_type": "execute_result"
    }
   ],
   "source": [
    "import pandas as pd\n",
    "import numpy as np\n",
    "\n",
    "from sklearn.naive_bayes import MultinomialNB\n",
    "from sklearn.linear_model import LogisticRegression\n",
    "from sklearn.feature_extraction.text import CountVectorizer\n",
    "from sklearn.model_selection import train_test_split\n",
    "from sklearn.metrics import accuracy_score\n",
    "\n",
    "df = pd.read_csv(\"data/kjvdata.csv\")\n",
    "df.head()\n",
    "\n",
    "\n",
    "author_list = {\n",
    "    \"Genesis\": \"Moses\",\n",
    "    \"Exodus\": \"Moses\",\n",
    "    \"Leviticus\": \"Moses\",\n",
    "    \"Numbers\": \"Moses\",\n",
    "    \"Deuteronomy\": \"Moses\",\n",
    "    \"Joshua\": \"Joshua\",\n",
    "    \"Judges\": \"Samuel, Nathan, Gad\",\n",
    "    \"Ruth\": \"Samuel, Nathan, Gad\",\n",
    "    \"1 Samuel (1 Kings)\": \"Samuel, Nathan, Gad\",\n",
    "    \"2 Samuel (2 Kings)\": \"Samuel, Nathan, Gad\",\n",
    "    \"1 Kings (3 Kings)\": \"Jeremiah\",\n",
    "    \"2 Kings (4 Kings)\": \"Jeremiah\",\n",
    "    \"1 Chronicles\": \"Ezra\",\n",
    "    \"2 Chronicles\": \"Ezra\",\n",
    "    \"Ezra\": \"Ezra\",\n",
    "    \"Nehemiah\": \"Nehemiah, Ezra\",\n",
    "    \"Esther\": \"Mordecai\",\n",
    "    \"Job\": \"Job,Moses\",\n",
    "    \"Psalms\": \"David,Asaph, Ezra, the sons of Korah, Heman, Ethan, Moses\",\n",
    "    \"Proverbs\": \"Solomon ,Agur(30) and Lemuel(31)\",\n",
    "    \"Ecclesiastes\": \"Solomon\",\n",
    "    \"Song of Solomon (Canticles)\": \"Solomon\",\n",
    "    \"Isaiah\": \"Isaiah\",\n",
    "    \"Jeremiah\": \"Jeremiah\",\n",
    "    \"Lamentations\": \"Jeremiah\",\n",
    "    \"Ezekiel\": \"Ezekiel\",\n",
    "    \"Daniel\": \"Daniel\",\n",
    "    \"Hosea\": \"Hosea\",\n",
    "    \"Joel\": \"Joel\",\n",
    "    \"Amos\": \"Amos\",\n",
    "    \"Obadiah\": \"Obadiah\",\n",
    "    \"Jonah\": \"Jonah\",\n",
    "    \"Micah\": \"Micah\",\n",
    "    \"Nahum\": \"Nahum\",\n",
    "    \"Habakkuk\": \"Habakkuk\",\n",
    "    \"Zephaniah\": \"Zephaniah\",\n",
    "    \"Haggai\": \"Haggai\",\n",
    "    \"Zechariah\": \" Zechariah\",\n",
    "    \"Malachi\": \"Malachi\",\n",
    "    \"Matthew\": \"Matthew\",\n",
    "    \"Mark\": \"John Mark\",\n",
    "    \"Luke\": \"Luke\",\n",
    "    \"John\": \"John, the Apostle\",\n",
    "    \"Acts\": \"Luke\",\n",
    "    \"Romans\": \"Paul\",\n",
    "    \"1 Corinthians\": \"Paul\",\n",
    "    \"2 Corinthians\": \"Paul\",\n",
    "    \"Galatians\": \"Paul\",\n",
    "    \"Ephesians\": \"Paul\",\n",
    "    \"Philippians\": \"Paul\",\n",
    "    \"Colossians\": \"Paul\",\n",
    "    \"1 Thessalonians\": \"Paul\",\n",
    "    \"2 Thessalonians\": \"Paul\",\n",
    "    \"1 Timothy\": \"Paul\",\n",
    "    \"2 Timothy\": \"Paul\",\n",
    "    \"Titus\": \"Paul\",\n",
    "    \"Philemon\": \"Paul\",\n",
    "    \"Hebrews\": \"Paul, Luke, Barnabas, Apollos\",\n",
    "    \"James\": \"James the brother of Jesus and Jude (not the Apostle, brother of John).\",\n",
    "    \"1 Peter\": \"Peter\",\n",
    "    \"2 Peter\": \"Peter\",\n",
    "    \"1 John\": \"John, the Apostle\",\n",
    "    \"2 John\": \"John, the Apostle\",\n",
    "    \"3 John\": \"John, the Apostle\",\n",
    "    \"Jude\": \"Jude, the brother of Jesus\",\n",
    "    \"Revelation\": \"John, the Apostle\"\n",
    "}\n",
    "\n",
    "df['author'] = df['book'].map(author_list)\n",
    "df['author'].head()\n",
    "\n",
    "x_features = df['text']\n",
    "y_labels = df['author']\n",
    "\n",
    "cv = CountVectorizer()\n",
    "x = cv.fit_transform(x_features)\n",
    "\n",
    "x_train, x_test, y_train, y_test = train_test_split(x, y_labels, test_size=0.33,random_state=42)\n",
    "\n",
    "x_train.shape\n",
    "\n",
    "clf = MultinomialNB()\n",
    "clf.fit(x_train,y_train)\n",
    "\n",
    "print(\"Accuracy of Model :\", clf.score(x_test, y_test))\n",
    "accuracy_score(y_test,clf.predict(x_test))\n",
    "\n",
    "logit = LogisticRegression()\n",
    "logit.fit(x_train, y_train)\n",
    "\n",
    "print(\"Accuracy of Logit Model :\",logit.score(x_test,y_test))\n",
    "accuracy_score(y_test,logit.predict(x_test))\n",
    "\n"
   ]
  }
 ],
 "metadata": {
  "kernelspec": {
   "display_name": "Python 3",
   "language": "python",
   "name": "python3"
  },
  "language_info": {
   "codemirror_mode": {
    "name": "ipython",
    "version": 2
   },
   "file_extension": ".py",
   "mimetype": "text/x-python",
   "name": "python",
   "nbconvert_exporter": "python",
   "pygments_lexer": "ipython2",
   "version": "2.7.6"
  }
 },
 "nbformat": 4,
 "nbformat_minor": 5
}
