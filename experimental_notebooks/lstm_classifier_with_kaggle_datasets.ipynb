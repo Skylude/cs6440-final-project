{
 "cells": [
  {
   "cell_type": "code",
   "execution_count": 14,
   "id": "initial_id",
   "metadata": {
    "collapsed": true,
    "ExecuteTime": {
     "end_time": "2024-11-28T15:03:21.940459Z",
     "start_time": "2024-11-28T15:03:21.880541Z"
    }
   },
   "outputs": [
    {
     "name": "stdout",
     "output_type": "stream",
     "text": [
      "   verse_id  book_id  chapter  verse  \\\n",
      "0   1001001        1        1      1   \n",
      "1   1001002        1        1      2   \n",
      "2   1001003        1        1      3   \n",
      "3   1001004        1        1      4   \n",
      "4   1001005        1        1      5   \n",
      "\n",
      "                                                text book_name testament  \\\n",
      "0  In the beginning God created the heaven and th...   Genesis        OT   \n",
      "1  And the earth was without form, and void; and ...   Genesis        OT   \n",
      "2  And God said, Let there be light: and there wa...   Genesis        OT   \n",
      "3  And God saw the light, that it was good: and G...   Genesis        OT   \n",
      "4  And God called the light Day, and the darkness...   Genesis        OT   \n",
      "\n",
      "   genre  \n",
      "0      1  \n",
      "1      1  \n",
      "2      1  \n",
      "3      1  \n",
      "4      1  \n"
     ]
    }
   ],
   "source": [
    "import pandas as pd\n",
    "\n",
    "# columns\n",
    "columns = ['verse_id', 'book_id', 'chapter', 'verse', 'text']\n",
    "\n",
    "\n",
    "# Example with KJV CSV file\n",
    "kjv = pd.read_csv('bible_data/bible_databases-master/bible_databases-master/csv/t_kjv.csv')\n",
    "kjv.columns = columns\n",
    "\n",
    "key_english = pd.read_csv('bible_data/bible_databases-master/bible_databases-master/csv/key_english.csv')\n",
    "key_english.columns = ['book_id', 'book_name', 'testament', 'genre']\n",
    "\n",
    "kjv = kjv.merge(key_english, on='book_id', how='left', suffixes=(None, '_key'))\n",
    "\n",
    "import re\n",
    "from nltk.corpus import stopwords\n",
    "import nltk\n",
    "\n",
    "nltk.download('stopwords')\n",
    "stop_words = set(stopwords.words('english'))\n",
    "\n",
    "def preprocess_text(text):\n",
    "    # Lowercase\n",
    "    text = text.lower()\n",
    "    # Remove punctuation and numbers\n",
    "    text = re.sub(r'[^\\w\\s]', '', text)\n",
    "    text = re.sub(r'\\d+', '', text)\n",
    "    # Remove stopwords\n",
    "    text = ' '.join([word for word in text.split() if word not in stop_words])\n",
    "    return text\n",
    "\n",
    "kjv['cleaned_text'] = kjv['text'].apply(preprocess_text)\n",
    "\n",
    "# Extract features and labels\n",
    "texts = kjv['cleaned_text']\n",
    "labels = kjv['book_name']\n",
    "\n",
    "# Encode labels into integers\n",
    "from sklearn.preprocessing import LabelEncoder\n",
    "\n",
    "label_encoder = LabelEncoder()\n",
    "labels_encoded = label_encoder.fit_transform(labels)\n",
    "\n",
    "# Split into training and test sets\n",
    "from sklearn.model_selection import train_test_split\n",
    "\n",
    "x_train, x_test, y_train, y_test = train_test_split(texts, labels_encoded, test_size=0.2, random_state=42)\n",
    "\n",
    "from sklearn.feature_extraction.text import CountVectorizer\n",
    "\n",
    "# Initialize CountVectorizer\n",
    "vectorizer = CountVectorizer(max_features=5000)  # Limit to 5000 most common words\n",
    "x_train_vectorized = vectorizer.fit_transform(x_train)\n",
    "x_test_vectorized = vectorizer.transform(x_test)\n",
    "\n",
    "from sklearn.naive_bayes import MultinomialNB\n",
    "from sklearn.metrics import accuracy_score, classification_report\n",
    "\n",
    "# Train a Naive Bayes model\n",
    "nb_model = MultinomialNB()\n",
    "nb_model.fit(x_train_vectorized, y_train)\n",
    "\n",
    "# Evaluate the model\n",
    "y_pred = nb_model.predict(x_test_vectorized)\n",
    "print(\"Naive Bayes Accuracy:\", accuracy_score(y_test, y_pred))\n",
    "print(classification_report(y_test, y_pred, target_names=label_encoder.classes_))\n",
    "\n",
    "from sklearn.naive_bayes import MultinomialNB\n",
    "from sklearn.metrics import accuracy_score, classification_report\n",
    "\n",
    "# Train a Naive Bayes model\n",
    "nb_model = MultinomialNB()\n",
    "nb_model.fit(x_train_vectorized, y_train)\n",
    "\n",
    "# Evaluate the model\n",
    "y_pred = nb_model.predict(x_test_vectorized)\n",
    "print(\"Naive Bayes Accuracy:\", accuracy_score(y_test, y_pred))\n",
    "print(classification_report(y_test, y_pred, target_names=label_encoder.classes_))\n",
    "\n",
    "from sklearn.linear_model import LogisticRegression\n",
    "\n",
    "# Train a Logistic Regression model\n",
    "logistic_model = LogisticRegression(max_iter=1000)\n",
    "logistic_model.fit(x_train_vectorized, y_train)\n",
    "\n",
    "# Evaluate the model\n",
    "y_pred_logistic = logistic_model.predict(x_test_vectorized)\n",
    "print(\"Logistic Regression Accuracy:\", accuracy_score(y_test, y_pred_logistic))\n",
    "print(classification_report(y_test, y_pred_logistic, target_names=label_encoder.classes_))\n",
    "\n",
    "import joblib\n",
    "\n",
    "# Save the vectorizer and models\n",
    "joblib.dump(vectorizer, 'vectorizer.pkl')\n",
    "joblib.dump(nb_model, 'naive_bayes_model.pkl')\n",
    "joblib.dump(logistic_model, 'logistic_regression_model.pkl')"
   ]
  },
  {
   "cell_type": "code",
   "outputs": [],
   "source": [],
   "metadata": {
    "collapsed": false,
    "ExecuteTime": {
     "end_time": "2024-11-28T15:04:14.922689Z",
     "start_time": "2024-11-28T15:04:14.912723Z"
    }
   },
   "id": "a11e42a8ad8e3da8",
   "execution_count": 18
  },
  {
   "cell_type": "code",
   "outputs": [],
   "source": [],
   "metadata": {
    "collapsed": false,
    "ExecuteTime": {
     "end_time": "2024-11-28T15:04:48.741200Z",
     "start_time": "2024-11-28T15:04:48.570354Z"
    }
   },
   "id": "5bd188cdb62d9cb3",
   "execution_count": 19
  },
  {
   "cell_type": "code",
   "outputs": [
    {
     "name": "stdout",
     "output_type": "stream",
     "text": [
      "Naive Bayes Accuracy: 0.4648770294164925\n",
      "                 precision    recall  f1-score   support\n",
      "\n",
      "   1 Chronicles       0.50      0.53      0.52       189\n",
      "  1 Corinthians       0.35      0.31      0.33        84\n",
      "         1 John       0.67      0.09      0.16        22\n",
      "        1 Kings       0.52      0.37      0.43       169\n",
      "        1 Peter       0.00      0.00      0.00        20\n",
      "       1 Samuel       0.60      0.68      0.64       175\n",
      "1 Thessalonians       0.00      0.00      0.00        10\n",
      "      1 Timothy       0.50      0.04      0.07        25\n",
      "   2 Chronicles       0.40      0.45      0.42       167\n",
      "  2 Corinthians       0.58      0.23      0.33        47\n",
      "         2 John       0.00      0.00      0.00         2\n",
      "        2 Kings       0.43      0.45      0.44       140\n",
      "        2 Peter       0.00      0.00      0.00        10\n",
      "       2 Samuel       0.54      0.40      0.46       153\n",
      "2 Thessalonians       0.00      0.00      0.00         6\n",
      "      2 Timothy       0.00      0.00      0.00        19\n",
      "         3 John       0.00      0.00      0.00         3\n",
      "           Acts       0.46      0.60      0.52       202\n",
      "           Amos       1.00      0.09      0.17        22\n",
      "     Colossians       0.00      0.00      0.00        10\n",
      "         Daniel       0.84      0.60      0.70        70\n",
      "    Deuteronomy       0.42      0.59      0.49       200\n",
      "   Ecclesiastes       0.60      0.14      0.23        42\n",
      "      Ephesians       0.50      0.03      0.06        34\n",
      "         Esther       0.96      0.77      0.86        31\n",
      "         Exodus       0.53      0.62      0.57       227\n",
      "        Ezekiel       0.53      0.57      0.55       248\n",
      "           Ezra       0.54      0.11      0.19        61\n",
      "      Galatians       0.00      0.00      0.00        24\n",
      "        Genesis       0.57      0.72      0.64       290\n",
      "       Habakkuk       0.00      0.00      0.00        12\n",
      "         Haggai       0.00      0.00      0.00         6\n",
      "        Hebrews       0.69      0.18      0.29        61\n",
      "          Hosea       0.00      0.00      0.00        53\n",
      "         Isaiah       0.34      0.45      0.39       261\n",
      "          James       0.00      0.00      0.00        23\n",
      "       Jeremiah       0.39      0.62      0.48       267\n",
      "            Job       0.44      0.28      0.34       217\n",
      "           Joel       0.00      0.00      0.00        15\n",
      "           John       0.46      0.60      0.52       176\n",
      "          Jonah       0.00      0.00      0.00         5\n",
      "         Joshua       0.50      0.53      0.51       131\n",
      "           Jude       0.00      0.00      0.00         4\n",
      "         Judges       0.52      0.46      0.49       118\n",
      "   Lamentations       0.00      0.00      0.00        37\n",
      "      Leviticus       0.60      0.72      0.65       184\n",
      "           Luke       0.27      0.27      0.27       237\n",
      "        Malachi       0.00      0.00      0.00        14\n",
      "           Mark       0.37      0.12      0.18       150\n",
      "        Matthew       0.29      0.31      0.30       226\n",
      "          Micah       0.00      0.00      0.00        22\n",
      "          Nahum       0.00      0.00      0.00         9\n",
      "       Nehemiah       0.58      0.25      0.35        89\n",
      "        Numbers       0.49      0.52      0.50       259\n",
      "        Obadiah       0.00      0.00      0.00         3\n",
      "       Philemon       0.00      0.00      0.00         4\n",
      "    Philippians       0.00      0.00      0.00        25\n",
      "       Proverbs       0.55      0.54      0.54       166\n",
      "         Psalms       0.44      0.71      0.55       508\n",
      "     Revelation       0.69      0.57      0.62        76\n",
      "         Romans       0.32      0.38      0.35        81\n",
      "           Ruth       0.75      0.25      0.38        12\n",
      "Song of Solomon       1.00      0.05      0.10        19\n",
      "          Titus       0.00      0.00      0.00         6\n",
      "      Zechariah       0.50      0.03      0.06        33\n",
      "      Zephaniah       0.00      0.00      0.00        10\n",
      "\n",
      "       accuracy                           0.46      6221\n",
      "      macro avg       0.34      0.25      0.25      6221\n",
      "   weighted avg       0.45      0.46      0.44      6221\n"
     ]
    },
    {
     "name": "stderr",
     "output_type": "stream",
     "text": [
      "/Users/skylercain/code/cs-6640-artificial-neural-networks/.direnv/python-3.11/lib/python3.11/site-packages/sklearn/metrics/_classification.py:1531: UndefinedMetricWarning: Precision is ill-defined and being set to 0.0 in labels with no predicted samples. Use `zero_division` parameter to control this behavior.\n",
      "  _warn_prf(average, modifier, f\"{metric.capitalize()} is\", len(result))\n",
      "/Users/skylercain/code/cs-6640-artificial-neural-networks/.direnv/python-3.11/lib/python3.11/site-packages/sklearn/metrics/_classification.py:1531: UndefinedMetricWarning: Precision is ill-defined and being set to 0.0 in labels with no predicted samples. Use `zero_division` parameter to control this behavior.\n",
      "  _warn_prf(average, modifier, f\"{metric.capitalize()} is\", len(result))\n",
      "/Users/skylercain/code/cs-6640-artificial-neural-networks/.direnv/python-3.11/lib/python3.11/site-packages/sklearn/metrics/_classification.py:1531: UndefinedMetricWarning: Precision is ill-defined and being set to 0.0 in labels with no predicted samples. Use `zero_division` parameter to control this behavior.\n",
      "  _warn_prf(average, modifier, f\"{metric.capitalize()} is\", len(result))\n"
     ]
    }
   ],
   "source": [],
   "metadata": {
    "collapsed": false,
    "ExecuteTime": {
     "end_time": "2024-11-28T15:04:59.786013Z",
     "start_time": "2024-11-28T15:04:59.734040Z"
    }
   },
   "id": "42a6182f9cd58e7",
   "execution_count": 20
  },
  {
   "cell_type": "code",
   "outputs": [
    {
     "name": "stdout",
     "output_type": "stream",
     "text": [
      "Logistic Regression Accuracy: 0.48963189197878154\n",
      "                 precision    recall  f1-score   support\n",
      "\n",
      "   1 Chronicles       0.44      0.54      0.49       189\n",
      "  1 Corinthians       0.34      0.36      0.35        84\n",
      "         1 John       0.20      0.09      0.12        22\n",
      "        1 Kings       0.51      0.41      0.45       169\n",
      "        1 Peter       0.00      0.00      0.00        20\n",
      "       1 Samuel       0.71      0.65      0.68       175\n",
      "1 Thessalonians       0.12      0.10      0.11        10\n",
      "      1 Timothy       0.67      0.24      0.35        25\n",
      "   2 Chronicles       0.42      0.40      0.41       167\n",
      "  2 Corinthians       0.44      0.34      0.39        47\n",
      "         2 John       0.00      0.00      0.00         2\n",
      "        2 Kings       0.54      0.46      0.50       140\n",
      "        2 Peter       0.50      0.10      0.17        10\n",
      "       2 Samuel       0.53      0.41      0.46       153\n",
      "2 Thessalonians       0.00      0.00      0.00         6\n",
      "      2 Timothy       0.50      0.05      0.10        19\n",
      "         3 John       0.00      0.00      0.00         3\n",
      "           Acts       0.51      0.52      0.52       202\n",
      "           Amos       0.55      0.27      0.36        22\n",
      "     Colossians       0.00      0.00      0.00        10\n",
      "         Daniel       0.81      0.67      0.73        70\n",
      "    Deuteronomy       0.51      0.52      0.52       200\n",
      "   Ecclesiastes       0.61      0.33      0.43        42\n",
      "      Ephesians       0.22      0.12      0.15        34\n",
      "         Esther       0.90      0.84      0.87        31\n",
      "         Exodus       0.57      0.67      0.62       227\n",
      "        Ezekiel       0.61      0.66      0.63       248\n",
      "           Ezra       0.47      0.26      0.34        61\n",
      "      Galatians       0.31      0.17      0.22        24\n",
      "        Genesis       0.61      0.71      0.65       290\n",
      "       Habakkuk       0.00      0.00      0.00        12\n",
      "         Haggai       0.67      0.33      0.44         6\n",
      "        Hebrews       0.49      0.28      0.35        61\n",
      "          Hosea       0.52      0.21      0.30        53\n",
      "         Isaiah       0.37      0.38      0.37       261\n",
      "          James       0.00      0.00      0.00        23\n",
      "       Jeremiah       0.52      0.53      0.53       267\n",
      "            Job       0.35      0.41      0.38       217\n",
      "           Joel       0.25      0.07      0.11        15\n",
      "           John       0.49      0.57      0.52       176\n",
      "          Jonah       1.00      0.40      0.57         5\n",
      "         Joshua       0.60      0.57      0.59       131\n",
      "           Jude       0.00      0.00      0.00         4\n",
      "         Judges       0.67      0.58      0.62       118\n",
      "   Lamentations       0.33      0.08      0.13        37\n",
      "      Leviticus       0.69      0.69      0.69       184\n",
      "           Luke       0.27      0.31      0.29       237\n",
      "        Malachi       0.50      0.14      0.22        14\n",
      "           Mark       0.32      0.23      0.27       150\n",
      "        Matthew       0.32      0.36      0.34       226\n",
      "          Micah       0.00      0.00      0.00        22\n",
      "          Nahum       0.00      0.00      0.00         9\n",
      "       Nehemiah       0.51      0.37      0.43        89\n",
      "        Numbers       0.56      0.55      0.55       259\n",
      "        Obadiah       1.00      0.33      0.50         3\n",
      "       Philemon       0.00      0.00      0.00         4\n",
      "    Philippians       0.11      0.04      0.06        25\n",
      "       Proverbs       0.47      0.58      0.52       166\n",
      "         Psalms       0.44      0.71      0.55       508\n",
      "     Revelation       0.71      0.63      0.67        76\n",
      "         Romans       0.40      0.38      0.39        81\n",
      "           Ruth       0.86      0.50      0.63        12\n",
      "Song of Solomon       0.80      0.21      0.33        19\n",
      "          Titus       0.00      0.00      0.00         6\n",
      "      Zechariah       0.42      0.33      0.37        33\n",
      "      Zephaniah       1.00      0.10      0.18        10\n",
      "\n",
      "       accuracy                           0.49      6221\n",
      "      macro avg       0.43      0.31      0.34      6221\n",
      "   weighted avg       0.49      0.49      0.48      6221\n"
     ]
    },
    {
     "name": "stderr",
     "output_type": "stream",
     "text": [
      "/Users/skylercain/code/cs-6640-artificial-neural-networks/.direnv/python-3.11/lib/python3.11/site-packages/sklearn/metrics/_classification.py:1531: UndefinedMetricWarning: Precision is ill-defined and being set to 0.0 in labels with no predicted samples. Use `zero_division` parameter to control this behavior.\n",
      "  _warn_prf(average, modifier, f\"{metric.capitalize()} is\", len(result))\n",
      "/Users/skylercain/code/cs-6640-artificial-neural-networks/.direnv/python-3.11/lib/python3.11/site-packages/sklearn/metrics/_classification.py:1531: UndefinedMetricWarning: Precision is ill-defined and being set to 0.0 in labels with no predicted samples. Use `zero_division` parameter to control this behavior.\n",
      "  _warn_prf(average, modifier, f\"{metric.capitalize()} is\", len(result))\n",
      "/Users/skylercain/code/cs-6640-artificial-neural-networks/.direnv/python-3.11/lib/python3.11/site-packages/sklearn/metrics/_classification.py:1531: UndefinedMetricWarning: Precision is ill-defined and being set to 0.0 in labels with no predicted samples. Use `zero_division` parameter to control this behavior.\n",
      "  _warn_prf(average, modifier, f\"{metric.capitalize()} is\", len(result))\n"
     ]
    }
   ],
   "source": [],
   "metadata": {
    "collapsed": false,
    "ExecuteTime": {
     "end_time": "2024-11-28T15:05:34.625115Z",
     "start_time": "2024-11-28T15:05:30.890069Z"
    }
   },
   "id": "decdc2b3e7a38a4b",
   "execution_count": 21
  },
  {
   "cell_type": "code",
   "outputs": [
    {
     "data": {
      "text/plain": "['logistic_regression_model.pkl']"
     },
     "execution_count": 22,
     "metadata": {},
     "output_type": "execute_result"
    }
   ],
   "source": [],
   "metadata": {
    "collapsed": false,
    "ExecuteTime": {
     "end_time": "2024-11-28T15:05:40.976044Z",
     "start_time": "2024-11-28T15:05:40.921187Z"
    }
   },
   "id": "61d18247e4aba377",
   "execution_count": 22
  },
  {
   "cell_type": "code",
   "outputs": [],
   "source": [],
   "metadata": {
    "collapsed": false
   },
   "id": "9a97742b94096990"
  }
 ],
 "metadata": {
  "kernelspec": {
   "display_name": "Python 3",
   "language": "python",
   "name": "python3"
  },
  "language_info": {
   "codemirror_mode": {
    "name": "ipython",
    "version": 2
   },
   "file_extension": ".py",
   "mimetype": "text/x-python",
   "name": "python",
   "nbconvert_exporter": "python",
   "pygments_lexer": "ipython2",
   "version": "2.7.6"
  }
 },
 "nbformat": 4,
 "nbformat_minor": 5
}
