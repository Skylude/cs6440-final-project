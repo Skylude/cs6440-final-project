{
 "cells": [
  {
   "cell_type": "code",
   "execution_count": 1,
   "id": "initial_id",
   "metadata": {
    "collapsed": true,
    "ExecuteTime": {
     "end_time": "2024-11-28T16:02:28.852004Z",
     "start_time": "2024-11-28T15:20:05.819552Z"
    }
   },
   "outputs": [
    {
     "name": "stderr",
     "output_type": "stream",
     "text": [
      "[nltk_data] Downloading package stopwords to\n",
      "[nltk_data]     /Users/skylercain/nltk_data...\n",
      "[nltk_data]   Package stopwords is already up-to-date!\n"
     ]
    },
    {
     "name": "stdout",
     "output_type": "stream",
     "text": [
      "Epoch 1/10\n"
     ]
    },
    {
     "name": "stderr",
     "output_type": "stream",
     "text": [
      "/Users/skylercain/code/cs-6640-artificial-neural-networks/.direnv/python-3.11/lib/python3.11/site-packages/keras/src/layers/core/embedding.py:90: UserWarning: Argument `input_length` is deprecated. Just remove it.\n",
      "  warnings.warn(\n"
     ]
    },
    {
     "name": "stdout",
     "output_type": "stream",
     "text": [
      "\u001B[1m4355/4355\u001B[0m \u001B[32m━━━━━━━━━━━━━━━━━━━━\u001B[0m\u001B[37m\u001B[0m \u001B[1m247s\u001B[0m 57ms/step - accuracy: 0.2018 - loss: 3.0307 - val_accuracy: 0.4709 - val_loss: 1.8278\n",
      "Epoch 2/10\n",
      "\u001B[1m4355/4355\u001B[0m \u001B[32m━━━━━━━━━━━━━━━━━━━━\u001B[0m\u001B[37m\u001B[0m \u001B[1m254s\u001B[0m 58ms/step - accuracy: 0.4788 - loss: 1.8413 - val_accuracy: 0.5598 - val_loss: 1.5186\n",
      "Epoch 3/10\n",
      "\u001B[1m4355/4355\u001B[0m \u001B[32m━━━━━━━━━━━━━━━━━━━━\u001B[0m\u001B[37m\u001B[0m \u001B[1m254s\u001B[0m 58ms/step - accuracy: 0.5692 - loss: 1.5051 - val_accuracy: 0.6009 - val_loss: 1.3743\n",
      "Epoch 4/10\n",
      "\u001B[1m4355/4355\u001B[0m \u001B[32m━━━━━━━━━━━━━━━━━━━━\u001B[0m\u001B[37m\u001B[0m \u001B[1m256s\u001B[0m 59ms/step - accuracy: 0.6253 - loss: 1.3037 - val_accuracy: 0.6358 - val_loss: 1.2797\n",
      "Epoch 5/10\n",
      "\u001B[1m4355/4355\u001B[0m \u001B[32m━━━━━━━━━━━━━━━━━━━━\u001B[0m\u001B[37m\u001B[0m \u001B[1m252s\u001B[0m 58ms/step - accuracy: 0.6620 - loss: 1.1502 - val_accuracy: 0.6575 - val_loss: 1.2170\n",
      "Epoch 6/10\n",
      "\u001B[1m4355/4355\u001B[0m \u001B[32m━━━━━━━━━━━━━━━━━━━━\u001B[0m\u001B[37m\u001B[0m \u001B[1m252s\u001B[0m 58ms/step - accuracy: 0.6915 - loss: 1.0405 - val_accuracy: 0.6751 - val_loss: 1.1884\n",
      "Epoch 7/10\n",
      "\u001B[1m4355/4355\u001B[0m \u001B[32m━━━━━━━━━━━━━━━━━━━━\u001B[0m\u001B[37m\u001B[0m \u001B[1m253s\u001B[0m 58ms/step - accuracy: 0.7170 - loss: 0.9499 - val_accuracy: 0.6891 - val_loss: 1.1790\n",
      "Epoch 8/10\n",
      "\u001B[1m4355/4355\u001B[0m \u001B[32m━━━━━━━━━━━━━━━━━━━━\u001B[0m\u001B[37m\u001B[0m \u001B[1m245s\u001B[0m 56ms/step - accuracy: 0.7395 - loss: 0.8724 - val_accuracy: 0.7004 - val_loss: 1.1651\n",
      "Epoch 9/10\n",
      "\u001B[1m4355/4355\u001B[0m \u001B[32m━━━━━━━━━━━━━━━━━━━━\u001B[0m\u001B[37m\u001B[0m \u001B[1m250s\u001B[0m 57ms/step - accuracy: 0.7603 - loss: 0.7985 - val_accuracy: 0.7109 - val_loss: 1.1530\n",
      "Epoch 10/10\n",
      "\u001B[1m4355/4355\u001B[0m \u001B[32m━━━━━━━━━━━━━━━━━━━━\u001B[0m\u001B[37m\u001B[0m \u001B[1m252s\u001B[0m 58ms/step - accuracy: 0.7753 - loss: 0.7407 - val_accuracy: 0.7201 - val_loss: 1.1816\n",
      "\u001B[1m1361/1361\u001B[0m \u001B[32m━━━━━━━━━━━━━━━━━━━━\u001B[0m\u001B[37m\u001B[0m \u001B[1m21s\u001B[0m 15ms/step - accuracy: 0.7230 - loss: 1.1794\n"
     ]
    },
    {
     "name": "stderr",
     "output_type": "stream",
     "text": [
      "WARNING:absl:You are saving your model as an HDF5 file via `model.save()` or `keras.saving.save_model(model)`. This file format is considered legacy. We recommend using instead the native Keras format, e.g. `model.save('my_model.keras')` or `keras.saving.save_model(model, 'my_model.keras')`. \n"
     ]
    },
    {
     "name": "stdout",
     "output_type": "stream",
     "text": [
      "Test Accuracy (RNN): 0.720604419708252\n"
     ]
    }
   ],
   "source": [
    "# Bible Verse Classification with Recurrent Neural Network (RNN)\n",
    "\n",
    "# Import necessary libraries\n",
    "import numpy as np\n",
    "import pandas as pd\n",
    "import re\n",
    "from nltk.corpus import stopwords\n",
    "import nltk\n",
    "from tensorflow.keras.preprocessing.text import Tokenizer\n",
    "from tensorflow.keras.preprocessing.sequence import pad_sequences\n",
    "from sklearn.model_selection import train_test_split\n",
    "from sklearn.preprocessing import LabelEncoder\n",
    "from tensorflow.keras.models import Sequential\n",
    "from tensorflow.keras.layers import Embedding, LSTM, Dense, Dropout\n",
    "from tensorflow.keras.utils import to_categorical\n",
    "\n",
    "# Initialize stopwords\n",
    "nltk.download('stopwords')\n",
    "stop_words = set(stopwords.words('english'))\n",
    "\n",
    "# Preprocessing function\n",
    "def preprocess_text(text):\n",
    "    text = text.lower()\n",
    "    text = re.sub(r'[^\\w\\s]', '', text)  # Remove punctuation\n",
    "    text = re.sub(r'\\d+', '', text)      # Remove numbers\n",
    "    text = ' '.join([word for word in text.split() if word not in stop_words])  # Remove stopwords\n",
    "    return text\n",
    "\n",
    "# Load the dataset with multiple translations\n",
    "columns = ['verse_id', 'book_id', 'chapter', 'verse', 'text']\n",
    "translations = ['t_kjv.csv', 't_asv.csv', 't_bbe.csv', 't_dby.csv', 't_wbt.csv', 't_web.csv', 't_ylt.csv']\n",
    "translation_names = ['KJV', 'ASV', 'BBE', 'DBY', 'WBT', 'WEB', 'YLT']\n",
    "\n",
    "all_translations = pd.DataFrame()\n",
    "for file, name in zip(translations, translation_names):\n",
    "    file_path = f'bible_data/bible_databases-master/bible_databases-master/csv/{file}'\n",
    "    df = pd.read_csv(file_path)\n",
    "    df.columns = columns\n",
    "    df['translation'] = name\n",
    "    df['cleaned_text'] = df['text'].apply(preprocess_text)\n",
    "    all_translations = pd.concat([all_translations, df], ignore_index=True)\n",
    "\n",
    "# Merge with book metadata\n",
    "key_english = pd.read_csv('bible_data/bible_databases-master/bible_databases-master/csv/key_english.csv')\n",
    "key_english.columns = ['book_id', 'book_name', 'testament', 'genre']\n",
    "all_translations = all_translations.merge(key_english, on='book_id', how='left')\n",
    "\n",
    "# Extract features and labels\n",
    "texts = all_translations['cleaned_text']\n",
    "labels = all_translations['book_name']\n",
    "\n",
    "# Tokenize text\n",
    "tokenizer = Tokenizer(num_words=20000)\n",
    "tokenizer.fit_on_texts(texts)\n",
    "sequences = tokenizer.texts_to_sequences(texts)\n",
    "x_data = pad_sequences(sequences, maxlen=100)\n",
    "\n",
    "# Encode labels\n",
    "label_encoder = LabelEncoder()\n",
    "y_data = label_encoder.fit_transform(labels)\n",
    "\n",
    "# Split into train and test sets\n",
    "x_train, x_test, y_train, y_test = train_test_split(x_data, y_data, test_size=0.2, random_state=42)\n",
    "\n",
    "# Build the RNN model\n",
    "num_classes = len(label_encoder.classes_)\n",
    "model = Sequential([\n",
    "    Embedding(input_dim=20000, output_dim=128, input_length=100),\n",
    "    LSTM(128, return_sequences=False),\n",
    "    Dropout(0.5),\n",
    "    Dense(64, activation='relu'),\n",
    "    Dropout(0.5),\n",
    "    Dense(num_classes, activation='softmax')\n",
    "])\n",
    "\n",
    "# Compile the model\n",
    "model.compile(optimizer='adam', loss='sparse_categorical_crossentropy', metrics=['accuracy'])\n",
    "\n",
    "# Train the model\n",
    "history = model.fit(x_train, y_train, epochs=10, batch_size=32, validation_split=0.2)\n",
    "\n",
    "# Evaluate the model\n",
    "loss, accuracy = model.evaluate(x_test, y_test)\n",
    "print(f\"Test Accuracy (RNN): {accuracy}\")\n",
    "\n",
    "# Save the model\n",
    "model.save('bible_classifier_rnn.h5')\n"
   ]
  },
  {
   "cell_type": "code",
   "outputs": [],
   "source": [],
   "metadata": {
    "collapsed": false
   },
   "id": "1d968a76ec50f394"
  }
 ],
 "metadata": {
  "kernelspec": {
   "display_name": "Python 3",
   "language": "python",
   "name": "python3"
  },
  "language_info": {
   "codemirror_mode": {
    "name": "ipython",
    "version": 2
   },
   "file_extension": ".py",
   "mimetype": "text/x-python",
   "name": "python",
   "nbconvert_exporter": "python",
   "pygments_lexer": "ipython2",
   "version": "2.7.6"
  }
 },
 "nbformat": 4,
 "nbformat_minor": 5
}
